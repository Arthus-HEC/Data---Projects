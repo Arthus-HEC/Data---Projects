{
 "cells": [
  {
   "cell_type": "code",
   "execution_count": 1,
   "id": "2ceb573b-3ad0-45a0-af31-86cb55031f1b",
   "metadata": {},
   "outputs": [],
   "source": [
    "## Let's import packages we need \n",
    "import numpy as np \n",
    "import yfinance as yf\n",
    "from datetime import datetime, timedelta"
   ]
  },
  {
   "cell_type": "code",
   "execution_count": 14,
   "id": "0c4b9b25-0185-40b2-a8f0-13348643fa84",
   "metadata": {},
   "outputs": [],
   "source": [
    "## Variables \n",
    "stock_name = \"AAPL\"\n",
    "end_date = datetime.today()\n",
    "start_date = end_date - timedelta(days = 365)\n"
   ]
  },
  {
   "cell_type": "code",
   "execution_count": 16,
   "id": "112162ee-59b1-4d7c-a93f-b96a6e88453c",
   "metadata": {},
   "outputs": [
    {
     "name": "stderr",
     "output_type": "stream",
     "text": [
      "[*********************100%***********************]  1 of 1 completed\n"
     ]
    },
    {
     "data": {
      "text/html": [
       "<div>\n",
       "<style scoped>\n",
       "    .dataframe tbody tr th:only-of-type {\n",
       "        vertical-align: middle;\n",
       "    }\n",
       "\n",
       "    .dataframe tbody tr th {\n",
       "        vertical-align: top;\n",
       "    }\n",
       "\n",
       "    .dataframe thead th {\n",
       "        text-align: right;\n",
       "    }\n",
       "</style>\n",
       "<table border=\"1\" class=\"dataframe\">\n",
       "  <thead>\n",
       "    <tr style=\"text-align: right;\">\n",
       "      <th></th>\n",
       "      <th>Open</th>\n",
       "      <th>High</th>\n",
       "      <th>Low</th>\n",
       "      <th>Close</th>\n",
       "      <th>Adj Close</th>\n",
       "      <th>Volume</th>\n",
       "    </tr>\n",
       "    <tr>\n",
       "      <th>Date</th>\n",
       "      <th></th>\n",
       "      <th></th>\n",
       "      <th></th>\n",
       "      <th></th>\n",
       "      <th></th>\n",
       "      <th></th>\n",
       "    </tr>\n",
       "  </thead>\n",
       "  <tbody>\n",
       "    <tr>\n",
       "      <th>2023-10-09</th>\n",
       "      <td>176.809998</td>\n",
       "      <td>179.050003</td>\n",
       "      <td>175.800003</td>\n",
       "      <td>178.990005</td>\n",
       "      <td>178.078766</td>\n",
       "      <td>42390800</td>\n",
       "    </tr>\n",
       "    <tr>\n",
       "      <th>2023-10-10</th>\n",
       "      <td>178.100006</td>\n",
       "      <td>179.720001</td>\n",
       "      <td>177.949997</td>\n",
       "      <td>178.389999</td>\n",
       "      <td>177.481812</td>\n",
       "      <td>43698000</td>\n",
       "    </tr>\n",
       "    <tr>\n",
       "      <th>2023-10-11</th>\n",
       "      <td>178.199997</td>\n",
       "      <td>179.850006</td>\n",
       "      <td>177.600006</td>\n",
       "      <td>179.800003</td>\n",
       "      <td>178.884628</td>\n",
       "      <td>47551100</td>\n",
       "    </tr>\n",
       "    <tr>\n",
       "      <th>2023-10-12</th>\n",
       "      <td>180.070007</td>\n",
       "      <td>182.339996</td>\n",
       "      <td>179.039993</td>\n",
       "      <td>180.710007</td>\n",
       "      <td>179.789993</td>\n",
       "      <td>56743100</td>\n",
       "    </tr>\n",
       "    <tr>\n",
       "      <th>2023-10-13</th>\n",
       "      <td>181.419998</td>\n",
       "      <td>181.929993</td>\n",
       "      <td>178.139999</td>\n",
       "      <td>178.850006</td>\n",
       "      <td>177.939484</td>\n",
       "      <td>51427100</td>\n",
       "    </tr>\n",
       "    <tr>\n",
       "      <th>...</th>\n",
       "      <td>...</td>\n",
       "      <td>...</td>\n",
       "      <td>...</td>\n",
       "      <td>...</td>\n",
       "      <td>...</td>\n",
       "      <td>...</td>\n",
       "    </tr>\n",
       "    <tr>\n",
       "      <th>2024-09-30</th>\n",
       "      <td>230.039993</td>\n",
       "      <td>233.000000</td>\n",
       "      <td>229.649994</td>\n",
       "      <td>233.000000</td>\n",
       "      <td>233.000000</td>\n",
       "      <td>54541900</td>\n",
       "    </tr>\n",
       "    <tr>\n",
       "      <th>2024-10-01</th>\n",
       "      <td>229.520004</td>\n",
       "      <td>229.649994</td>\n",
       "      <td>223.740005</td>\n",
       "      <td>226.210007</td>\n",
       "      <td>226.210007</td>\n",
       "      <td>63285000</td>\n",
       "    </tr>\n",
       "    <tr>\n",
       "      <th>2024-10-02</th>\n",
       "      <td>225.889999</td>\n",
       "      <td>227.369995</td>\n",
       "      <td>223.020004</td>\n",
       "      <td>226.779999</td>\n",
       "      <td>226.779999</td>\n",
       "      <td>32880600</td>\n",
       "    </tr>\n",
       "    <tr>\n",
       "      <th>2024-10-03</th>\n",
       "      <td>225.139999</td>\n",
       "      <td>226.809998</td>\n",
       "      <td>223.320007</td>\n",
       "      <td>225.669998</td>\n",
       "      <td>225.669998</td>\n",
       "      <td>34044200</td>\n",
       "    </tr>\n",
       "    <tr>\n",
       "      <th>2024-10-04</th>\n",
       "      <td>227.899994</td>\n",
       "      <td>228.000000</td>\n",
       "      <td>224.130005</td>\n",
       "      <td>226.800003</td>\n",
       "      <td>226.800003</td>\n",
       "      <td>37245100</td>\n",
       "    </tr>\n",
       "  </tbody>\n",
       "</table>\n",
       "<p>250 rows × 6 columns</p>\n",
       "</div>"
      ],
      "text/plain": [
       "                  Open        High         Low       Close   Adj Close  \\\n",
       "Date                                                                     \n",
       "2023-10-09  176.809998  179.050003  175.800003  178.990005  178.078766   \n",
       "2023-10-10  178.100006  179.720001  177.949997  178.389999  177.481812   \n",
       "2023-10-11  178.199997  179.850006  177.600006  179.800003  178.884628   \n",
       "2023-10-12  180.070007  182.339996  179.039993  180.710007  179.789993   \n",
       "2023-10-13  181.419998  181.929993  178.139999  178.850006  177.939484   \n",
       "...                ...         ...         ...         ...         ...   \n",
       "2024-09-30  230.039993  233.000000  229.649994  233.000000  233.000000   \n",
       "2024-10-01  229.520004  229.649994  223.740005  226.210007  226.210007   \n",
       "2024-10-02  225.889999  227.369995  223.020004  226.779999  226.779999   \n",
       "2024-10-03  225.139999  226.809998  223.320007  225.669998  225.669998   \n",
       "2024-10-04  227.899994  228.000000  224.130005  226.800003  226.800003   \n",
       "\n",
       "              Volume  \n",
       "Date                  \n",
       "2023-10-09  42390800  \n",
       "2023-10-10  43698000  \n",
       "2023-10-11  47551100  \n",
       "2023-10-12  56743100  \n",
       "2023-10-13  51427100  \n",
       "...              ...  \n",
       "2024-09-30  54541900  \n",
       "2024-10-01  63285000  \n",
       "2024-10-02  32880600  \n",
       "2024-10-03  34044200  \n",
       "2024-10-04  37245100  \n",
       "\n",
       "[250 rows x 6 columns]"
      ]
     },
     "execution_count": 16,
     "metadata": {},
     "output_type": "execute_result"
    }
   ],
   "source": [
    "## Data \n",
    "stock_data = yf.download(stock_name, start_date, end_date)\n",
    "stock_data"
   ]
  },
  {
   "cell_type": "code",
   "execution_count": 38,
   "id": "335906ed-dfd1-42c5-af7d-0ef5bc90f60a",
   "metadata": {},
   "outputs": [
    {
     "data": {
      "text/plain": [
       "Date\n",
       "2023-10-09         NaN\n",
       "2023-10-10   -0.003352\n",
       "2023-10-11    0.007904\n",
       "2023-10-12    0.005061\n",
       "2023-10-13   -0.010293\n",
       "                ...   \n",
       "2024-09-30    0.022872\n",
       "2024-10-01   -0.029142\n",
       "2024-10-02    0.002520\n",
       "2024-10-03   -0.004895\n",
       "2024-10-04    0.005007\n",
       "Name: Adj Close, Length: 250, dtype: float64"
      ]
     },
     "execution_count": 38,
     "metadata": {},
     "output_type": "execute_result"
    }
   ],
   "source": [
    "## Daily returns \n",
    "d_returns = stock_data['Adj Close'].pct_change(1)\n",
    "stock_vol = d_returns.std()\n",
    "d_returns "
   ]
  },
  {
   "cell_type": "code",
   "execution_count": 20,
   "id": "70e5dac4-348f-414e-8b91-c007db72eb8a",
   "metadata": {},
   "outputs": [
    {
     "data": {
      "text/plain": [
       "0.014168119999597089"
      ]
     },
     "execution_count": 20,
     "metadata": {},
     "output_type": "execute_result"
    }
   ],
   "source": [
    "stock_vol"
   ]
  },
  {
   "cell_type": "code",
   "execution_count": 22,
   "id": "cfc32199-c8b2-4509-8abe-677c915da13f",
   "metadata": {},
   "outputs": [
    {
     "name": "stderr",
     "output_type": "stream",
     "text": [
      "/var/folders/ps/30swyym14g330zsz1w8zl9gc0000gn/T/ipykernel_65637/1476026898.py:1: FutureWarning: Series.__getitem__ treating keys as positions is deprecated. In a future version, integer keys will always be treated as labels (consistent with DataFrame behavior). To access a value by position, use `ser.iloc[pos]`\n",
      "  stock_price = stock_data['Adj Close'][-1]\n"
     ]
    }
   ],
   "source": [
    "stock_price = stock_data['Adj Close'][-1]\n",
    "\n",
    "strike_price = stock_price"
   ]
  },
  {
   "cell_type": "code",
   "execution_count": 23,
   "id": "243d1323-7ff5-4215-a2fa-c76416a7c189",
   "metadata": {},
   "outputs": [
    {
     "data": {
      "text/plain": [
       "226.8000030517578"
      ]
     },
     "execution_count": 23,
     "metadata": {},
     "output_type": "execute_result"
    }
   ],
   "source": [
    "strike_price"
   ]
  },
  {
   "cell_type": "code",
   "execution_count": 24,
   "id": "d0be1310-5be9-4f55-9753-97d5f719689c",
   "metadata": {},
   "outputs": [],
   "source": [
    "## Risk free rate and maturity \n",
    "risk_free_rate = 0.05\n",
    "maturity = 1\n"
   ]
  },
  {
   "cell_type": "code",
   "execution_count": 26,
   "id": "fa8d0ab9-5a32-4e1e-bfa7-6dd97aafe202",
   "metadata": {},
   "outputs": [],
   "source": [
    "## Option Pricing \n",
    "def european_option_price(S0, K, v, r, T, nSim, flag):\n",
    "    \n",
    "    z = np.random.standard_normal(nSim)\n",
    "    \n",
    "    S_fwd = S0 * np.exp((r-0.5* v**2)*T + v*np.sqrt(T)*z)\n",
    "    \n",
    "    if flag == 'call':\n",
    "        payoff = np.maximum(S_fwd - K, 0)\n",
    "    elif flag == 'put':\n",
    "        payoff = np.maximum(K-S_fwd, 0)\n",
    "    else :\n",
    "        print(\"incorrect flag\")\n",
    "        return \n",
    "    \n",
    "    return np.exp(-r*T)*np.sum(payoff)/nSim\n"
   ]
  },
  {
   "cell_type": "code",
   "execution_count": 27,
   "id": "d75f351b-3d7b-4a3a-b85a-21cdb17b3c25",
   "metadata": {},
   "outputs": [],
   "source": [
    "## Number of simulation \n",
    "nSim = 100000"
   ]
  },
  {
   "cell_type": "code",
   "execution_count": 36,
   "id": "e1768695-29f5-418a-889c-6aefb54613d3",
   "metadata": {},
   "outputs": [
    {
     "name": "stdin",
     "output_type": "stream",
     "text": [
      " put\n"
     ]
    }
   ],
   "source": [
    "## flag \n",
    "flag_ = input()"
   ]
  },
  {
   "cell_type": "code",
   "execution_count": 37,
   "id": "099dfdcc-7fda-46c9-8698-b5eb38c24608",
   "metadata": {},
   "outputs": [
    {
     "data": {
      "text/plain": [
       "0.00014289270477712933"
      ]
     },
     "execution_count": 37,
     "metadata": {},
     "output_type": "execute_result"
    }
   ],
   "source": [
    "option_price = european_option_price(\n",
    "    stock_price, strike_price, stock_vol, risk_free_rate, maturity, nSim, flag_)\n",
    "option_price"
   ]
  },
  {
   "cell_type": "code",
   "execution_count": null,
   "id": "eb5edde5-b7c6-41cb-a68f-94fa4da80acc",
   "metadata": {},
   "outputs": [],
   "source": []
  }
 ],
 "metadata": {
  "kernelspec": {
   "display_name": "Python 3 (ipykernel)",
   "language": "python",
   "name": "python3"
  },
  "language_info": {
   "codemirror_mode": {
    "name": "ipython",
    "version": 3
   },
   "file_extension": ".py",
   "mimetype": "text/x-python",
   "name": "python",
   "nbconvert_exporter": "python",
   "pygments_lexer": "ipython3",
   "version": "3.11.7"
  }
 },
 "nbformat": 4,
 "nbformat_minor": 5
}
